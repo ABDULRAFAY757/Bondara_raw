{
  "cells": [
    {
      "cell_type": "markdown",
      "metadata": {
        "id": "view-in-github",
        "colab_type": "text"
      },
      "source": [
        "<a href=\"https://colab.research.google.com/github/ABDULRAFAY757/Bondara_raw/blob/main/pipeline_preprocessing.ipynb\" target=\"_parent\"><img src=\"https://colab.research.google.com/assets/colab-badge.svg\" alt=\"Open In Colab\"/></a>"
      ]
    },
    {
      "cell_type": "code",
      "execution_count": null,
      "metadata": {
        "id": "NamvN9kk27Ix",
        "outputId": "87baf567-ee51-437d-dc71-16c130a4ed0f"
      },
      "outputs": [
        {
          "name": "stderr",
          "output_type": "stream",
          "text": [
            "c:\\Users\\nouri\\anaconda3\\lib\\site-packages\\xgboost\\compat.py:36: FutureWarning: pandas.Int64Index is deprecated and will be removed from pandas in a future version. Use pandas.Index with the appropriate dtype instead.\n",
            "  from pandas import MultiIndex, Int64Index\n"
          ]
        }
      ],
      "source": [
        "import pandas as pd\n",
        "import numpy as np\n",
        "import warnings\n",
        "import matplotlib.pyplot as plt\n",
        "import seaborn as sns\n",
        "import eli5\n",
        "import pickle\n",
        "\n",
        "sns.set()\n",
        "warnings.filterwarnings('ignore')"
      ]
    },
    {
      "cell_type": "code",
      "execution_count": null,
      "metadata": {
        "id": "Ez4klmoD27JC"
      },
      "outputs": [],
      "source": [
        "from sklearn.feature_selection import mutual_info_regression, SelectKBest, chi2\n",
        "from sklearn.ensemble import ExtraTreesClassifier, RandomForestRegressor, RandomForestClassifier, StackingClassifier, GradientBoostingClassifier\n",
        "from sklearn.preprocessing import StandardScaler, scale, MinMaxScaler\n",
        "from sklearn.decomposition import PCA\n",
        "from sklearn.metrics import accuracy_score, classification_report, confusion_matrix, mean_absolute_percentage_error, mean_squared_error, roc_auc_score, log_loss, precision_recall_fscore_support, mean_absolute_error, plot_roc_curve\n",
        "from sklearn.model_selection import train_test_split, cross_val_score, cross_validate, GridSearchCV, RandomizedSearchCV\n",
        "from sklearn.linear_model import LogisticRegression\n",
        "from sklearn.pipeline import Pipeline\n",
        "\n",
        "from sklearn.discriminant_analysis import QuadraticDiscriminantAnalysis\n",
        "from sklearn.discriminant_analysis import LinearDiscriminantAnalysis\n",
        "\n",
        "from imblearn.over_sampling import RandomOverSampler, SMOTE\n",
        "from eli5.sklearn import PermutationImportance\n",
        "from pprint import pprint\n",
        "\n",
        "from xgboost import XGBRegressor, XGBClassifier"
      ]
    },
    {
      "cell_type": "markdown",
      "metadata": {
        "id": "iB6Hm_Ai27JE"
      },
      "source": [
        "---"
      ]
    },
    {
      "cell_type": "code",
      "execution_count": null,
      "metadata": {
        "id": "PTHHXgAZ27JK"
      },
      "outputs": [],
      "source": [
        "pd.set_option('display.max_columns', None)"
      ]
    },
    {
      "cell_type": "markdown",
      "metadata": {
        "id": "eQyCOPBW27JL"
      },
      "source": [
        "---"
      ]
    },
    {
      "cell_type": "markdown",
      "metadata": {
        "id": "dUM5qUGs27JM"
      },
      "source": [
        "### Loading Data, Creating Target variable, and Preprocessing:"
      ]
    },
    {
      "cell_type": "markdown",
      "metadata": {
        "id": "elrHgU2527JP"
      },
      "source": [
        "**Loading data**"
      ]
    },
    {
      "cell_type": "code",
      "execution_count": null,
      "metadata": {
        "id": "7DO0MQRO27JQ",
        "outputId": "7a2d21a5-b73f-4eef-c449-0b77c7916291"
      },
      "outputs": [
        {
          "name": "stdout",
          "output_type": "stream",
          "text": [
            "0\n"
          ]
        },
        {
          "data": {
            "text/plain": [
              "Index(['BidsPortfolioManager', 'BidsApi', 'BidsManual', 'NewCreditCustomer',\n",
              "       'VerificationType', 'LanguageCode', 'Age', 'Gender', 'Country',\n",
              "       'AppliedAmount', 'Amount', 'Interest', 'LoanDuration', 'MonthlyPayment',\n",
              "       'UseOfLoan', 'Education', 'MaritalStatus', 'EmploymentStatus',\n",
              "       'EmploymentDurationCurrentEmployer', 'OccupationArea',\n",
              "       'HomeOwnershipType', 'IncomeTotal', 'ExistingLiabilities',\n",
              "       'LiabilitiesTotal', 'RefinanceLiabilities', 'DebtToIncome', 'FreeCash',\n",
              "       'Rating', 'Restructured', 'CreditScoreEsMicroL',\n",
              "       'PrincipalPaymentsMade', 'InterestAndPenaltyPaymentsMade',\n",
              "       'PrincipalBalance', 'InterestAndPenaltyBalance',\n",
              "       'NoOfPreviousLoansBeforeLoan', 'AmountOfPreviousLoansBeforeLoan',\n",
              "       'PreviousRepaymentsBeforeLoan',\n",
              "       'PreviousEarlyRepaymentsCountBeforeLoan', 'LoanStatus'],\n",
              "      dtype='object')"
            ]
          },
          "execution_count": 5,
          "metadata": {},
          "output_type": "execute_result"
        }
      ],
      "source": [
        "loan_data = pd.read_csv('Bondora_preprocessed.csv')\n",
        "\n",
        "print(loan_data.isnull().sum().sum())\n",
        "loan_data.columns"
      ]
    },
    {
      "cell_type": "markdown",
      "metadata": {
        "id": "g5c7ydhL27JW"
      },
      "source": [
        "#### **Creating Target Variables**"
      ]
    },
    {
      "cell_type": "markdown",
      "metadata": {
        "id": "jHqUa4an27Jc"
      },
      "source": [
        "I. Equaty Monthly Installments (EMI)"
      ]
    },
    {
      "cell_type": "code",
      "execution_count": null,
      "metadata": {
        "id": "hAguoT2d27Jd"
      },
      "outputs": [],
      "source": [
        "def cal_EMI(P, r, n):\n",
        "  P = P.values\n",
        "  r = r.values\n",
        "  n = n.values\n",
        "  #print(P.shape[0])\n",
        "  result_1 = np.empty(0)\n",
        "  result_2 = np.empty(0)\n",
        "  result = np.empty(0)\n",
        "  for i in range(P.shape[0]):\n",
        "    #print(P[i])\n",
        "    #print(r[i])\n",
        "    #print(n[i])\n",
        "    # EMI = P × r × (1 + r) ^ n / ((1 + r) ^ n – 1)\n",
        "    #print(P[i] * (1 + r[i]))\n",
        "    result_1 = np.append(result_1, P[i] * r[i] * np.power((1 + r[i]),n[i]))\n",
        "    result_2 = np.append(result_2, np.power((1 + r[i]),n[i]) - 1)\n",
        "    result = np.append(result, (result_1[i] / result_2[i]))\n",
        "\n",
        "  return result"
      ]
    },
    {
      "cell_type": "code",
      "execution_count": null,
      "metadata": {
        "id": "FK-bD2QA27J1"
      },
      "outputs": [],
      "source": [
        "loan_data['EMI'] = cal_EMI(loan_data['Amount'], loan_data['Interest'], loan_data['LoanDuration'])"
      ]
    },
    {
      "cell_type": "markdown",
      "metadata": {
        "id": "N34nXa7I27J2"
      },
      "source": [
        "II. Eligible Loan Amount (ELA)"
      ]
    },
    {
      "cell_type": "code",
      "execution_count": null,
      "metadata": {
        "id": "OxA9BWjR27J3"
      },
      "outputs": [],
      "source": [
        "# Step 1\n",
        "loan_data['Ava_Inc'] = ((loan_data['IncomeTotal']-loan_data['LiabilitiesTotal'])*0.3)\n",
        "loan_data['Total_Loan_Amnt'] = np.round((loan_data['AppliedAmount'] + (loan_data['AppliedAmount'] * loan_data['Interest']) /100)*loan_data['LoanDuration'])"
      ]
    },
    {
      "cell_type": "code",
      "execution_count": null,
      "metadata": {
        "id": "DIIfpMqL27J3"
      },
      "outputs": [],
      "source": [
        "# Step 2\n",
        "def eligible_loan_amnt(df):\n",
        "  Ava_Inc = df['Ava_Inc'].values\n",
        "  Total_Loan_Amnt = df['Total_Loan_Amnt'].values\n",
        "  ELA = np.empty(0)\n",
        "  for i in range(len(Ava_Inc)):\n",
        "    if Total_Loan_Amnt[i] <= Ava_Inc[i]:\n",
        "      ELA = np.append(ELA, Total_Loan_Amnt[i])\n",
        "    else:\n",
        "      ELA = np.append(ELA, Ava_Inc[i])\n",
        "  return ELA"
      ]
    },
    {
      "cell_type": "code",
      "execution_count": null,
      "metadata": {
        "id": "fxUGJzcC27J4"
      },
      "outputs": [],
      "source": [
        "loan_data['ELA'] = eligible_loan_amnt(loan_data)"
      ]
    },
    {
      "cell_type": "markdown",
      "metadata": {
        "id": "V9MhVlcO27J5"
      },
      "source": [
        "III. Preferred ROI (PROI) ---> needs redefining ---> Redefined"
      ]
    },
    {
      "cell_type": "code",
      "execution_count": null,
      "metadata": {
        "id": "4EogGeFQ27J6"
      },
      "outputs": [],
      "source": [
        "def PROI(df):\n",
        "    # Calculate ROI\n",
        "    loan_data['InterestAmount'] = (loan_data['Amount']*(loan_data['Interest']/100))\n",
        "    loan_data['TotalAmount'] = (loan_data['InterestAmount'] + loan_data['Amount'])\n",
        "    loan_data['ROI'] = (loan_data['InterestAmount'] / loan_data['TotalAmount'])*100\n",
        "    \n",
        "    # Setting PROI\n",
        "    df['PROI'] = loan_data['ROI'].median()\n",
        "\n",
        "    for i in range(df.shape[0]):\n",
        "        # Check out LoanDuration\n",
        "        if df['LoanDuration'].loc[i] <= 30:\n",
        "            df['PROI'].loc[i] = df['PROI'].loc[i] - 5\n",
        "        \n",
        "        # Check out AppliedAmount\n",
        "        if (df['AppliedAmount'].loc[i] <= 1175) & (df['AppliedAmount'].loc[i] >= 850):\n",
        "            df['PROI'].loc[i] = df['PROI'].loc[i] - 5\n",
        "        elif df['AppliedAmount'].loc[i] > 2000:\n",
        "            df['PROI'].loc[i] = df['PROI'].loc[i] + 5\n",
        "\n",
        "        # Check out IncomeTotal\n",
        "        if df['IncomeTotal'].loc[i] <= 1000:\n",
        "            df['PROI'].loc[i] = df['PROI'].loc[i] - 5\n",
        "\n",
        "        # Check out DebtToIncome\n",
        "        if df['DebtToIncome'].loc[i] == 0:\n",
        "            df['PROI'].loc[i] = df['PROI'].loc[i] - 5\n",
        "        else:\n",
        "            df['PROI'].loc[i] = df['PROI'].loc[i] + 5\n",
        "\n",
        "    return df['PROI']"
      ]
    },
    {
      "cell_type": "code",
      "source": [
        "loan_data['PROI'] = PROI(loan_data)"
      ],
      "metadata": {
        "id": "GRqTdw5b345g"
      },
      "execution_count": null,
      "outputs": []
    },
    {
      "cell_type": "markdown",
      "metadata": {
        "id": "nxnTwZLU27J7"
      },
      "source": [
        "VI. LoanStatus"
      ]
    },
    {
      "cell_type": "code",
      "execution_count": null,
      "metadata": {
        "id": "r1stPWlB27J7"
      },
      "outputs": [],
      "source": [
        "loan_data['LoanStatus'] = np.where(loan_data['LoanStatus']=='NoDefault', 1, 0)"
      ]
    },
    {
      "cell_type": "markdown",
      "metadata": {
        "id": "ash56E8O27J8"
      },
      "source": [
        "#### **Handling Outliers:**"
      ]
    },
    {
      "cell_type": "code",
      "execution_count": null,
      "metadata": {
        "id": "i74KqWat27J9"
      },
      "outputs": [],
      "source": [
        "# Let's compute IQR for each numerical feature\n",
        "df_IQR = loan_data[loan_data.select_dtypes([float, int]).columns].quantile(.75) - loan_data[loan_data.select_dtypes([float, int]).columns].quantile(.25)\n",
        "\n",
        "# Let's compute maximum and minimum limits\n",
        "df_Max =  loan_data[loan_data.select_dtypes([float, int]).columns].quantile(.75) + (1.5*df_IQR)\n",
        "df_Min =  loan_data[loan_data.select_dtypes([float, int]).columns].quantile(.25) - (1.5*df_IQR)"
      ]
    },
    {
      "cell_type": "code",
      "execution_count": null,
      "metadata": {
        "id": "y3Nt-rDm27J-"
      },
      "outputs": [],
      "source": [
        "# Loop for replacing outliers above upper bound with the upper bound value:\n",
        "for column in loan_data.select_dtypes([float, int]).columns :\n",
        "    col_IQR = loan_data[column].quantile(.75) - loan_data[column].quantile(.25)\n",
        "    col_Max =  loan_data[column].quantile(.75) + (1.5*col_IQR)\n",
        "    loan_data[column][loan_data[column] > col_Max] =  col_Max"
      ]
    },
    {
      "cell_type": "code",
      "execution_count": null,
      "metadata": {
        "id": "OGEF6PLc27J_"
      },
      "outputs": [],
      "source": [
        "# Loop for replacing outliers under lower bound with the lower bound value:\n",
        "for column in loan_data.select_dtypes([float, int]).columns :\n",
        "    col_IQR = loan_data[column].quantile(.75) - loan_data[column].quantile(.25)\n",
        "    col_Min =  loan_data[column].quantile(.25) - (1.5*col_IQR)\n",
        "    loan_data[column][loan_data[column] < col_Min] =  col_Min"
      ]
    },
    {
      "cell_type": "markdown",
      "metadata": {
        "id": "RfKhK2Wi27J_"
      },
      "source": [
        "#### 3. **X, y split**"
      ]
    },
    {
      "cell_type": "code",
      "execution_count": null,
      "metadata": {
        "id": "id2Eln_M27KA"
      },
      "outputs": [],
      "source": [
        "# Defining Independent variables Dataset\n",
        "X = loan_data.drop(['EMI', 'ELA', 'PROI', 'LoanStatus'], axis=1)\n",
        "\n",
        "# Assigning target variables for both Models \n",
        "y_reg = loan_data[['EMI', 'ELA', 'ROI']]\n",
        "y_class = loan_data['LoanStatus']"
      ]
    },
    {
      "cell_type": "markdown",
      "metadata": {
        "id": "UHlqTpOm8emr"
      },
      "source": [
        "#### 4. Feature Selection"
      ]
    },
    {
      "cell_type": "code",
      "execution_count": null,
      "metadata": {
        "id": "jsrYu_cE8ems"
      },
      "outputs": [],
      "source": [
        "# A function to select highly correlated features.\n",
        "def Correlation(dataset, threshold): \n",
        "    correltated_features = set() # as a container of highly correlated features\n",
        "    correlation_matrix = dataset.corr()\n",
        "    for i in range(len(correlation_matrix.columns)):\n",
        "        for j in range(i):\n",
        "            if abs(correlation_matrix.iloc[i, j]) > threshold:\n",
        "                column_name = correlation_matrix.columns[i]\n",
        "                correltated_features.add(column_name)\n",
        "    return correltated_features"
      ]
    },
    {
      "cell_type": "code",
      "execution_count": null,
      "metadata": {
        "colab": {
          "base_uri": "https://localhost:8080/"
        },
        "id": "8NRqErV48ems",
        "outputId": "1d2f3ae8-3381-4573-83de-a963a1ce60b9"
      },
      "outputs": [
        {
          "data": {
            "text/plain": [
              "{'Amount',\n",
              " 'AmountOfPreviousLoansBeforeLoan',\n",
              " 'NoOfPreviousLoansBeforeLoan',\n",
              " 'TotalAmount',\n",
              " 'Total_Loan_Amnt'}"
            ]
          },
          "execution_count": 20,
          "metadata": {},
          "output_type": "execute_result"
        }
      ],
      "source": [
        "# let's selected features with a correlation factor > 0.8\n",
        "Correlation(X, 0.8)"
      ]
    },
    {
      "cell_type": "code",
      "execution_count": null,
      "metadata": {
        "id": "TdKUtEnr8ems"
      },
      "outputs": [],
      "source": [
        "# Now we can drop these features from our dataset\n",
        "X.drop(columns= ['AmountOfPreviousLoansBeforeLoan', 'NoOfPreviousLoansBeforeLoan', 'TotalAmount'], inplace = True )"
      ]
    },
    {
      "cell_type": "markdown",
      "metadata": {
        "id": "Gi98QT5o27KE"
      },
      "source": [
        "---"
      ]
    },
    {
      "cell_type": "markdown",
      "metadata": {
        "id": "kia9R1VM27KE"
      },
      "source": [
        "#### **train, test split**"
      ]
    },
    {
      "cell_type": "code",
      "execution_count": null,
      "metadata": {
        "id": "sIiQW2Px27KF"
      },
      "outputs": [],
      "source": [
        "#Train Test for Classification\n",
        "X_class_train, X_class_test, y_class_train, y_class_test = train_test_split(X, y_class, test_size=0.25, random_state=0)\n",
        "\n",
        "# Train Test for Regression\n",
        "X_reg_train, X_reg_test, y_reg_train, y_reg_test = train_test_split(X, y_reg, test_size=0.25, random_state=0)"
      ]
    },
    {
      "cell_type": "markdown",
      "metadata": {
        "id": "WzP_VUYo27KF"
      },
      "source": [
        "---"
      ]
    },
    {
      "cell_type": "markdown",
      "metadata": {
        "id": "3kBgF2xw27KG"
      },
      "source": [
        "## data preprocessing"
      ]
    },
    {
      "cell_type": "code",
      "execution_count": null,
      "metadata": {
        "id": "C75ICKfl27KG"
      },
      "outputs": [],
      "source": [
        "# Defining StandardScaler\n",
        "stdscaler = StandardScaler()\n",
        "\n",
        "# Defining PCA with no. of features = 110\n",
        "pca = PCA(n_components=110)"
      ]
    },
    {
      "cell_type": "markdown",
      "metadata": {
        "id": "SNXMH4Nd27KI"
      },
      "source": [
        "---"
      ]
    },
    {
      "cell_type": "markdown",
      "metadata": {
        "id": "cOCuPxYc27KJ"
      },
      "source": [
        "## classification"
      ]
    },
    {
      "cell_type": "markdown",
      "metadata": {
        "id": "rpUyWWV127KK"
      },
      "source": [
        "**ensemble learning**"
      ]
    },
    {
      "cell_type": "code",
      "execution_count": null,
      "metadata": {
        "id": "U91Mu-Vd27KL"
      },
      "outputs": [],
      "source": [
        "qda = QuadraticDiscriminantAnalysis()\n",
        "\n",
        "rf = RandomForestClassifier(random_state=0)"
      ]
    },
    {
      "cell_type": "code",
      "execution_count": null,
      "metadata": {
        "id": "_SicZROB27KL"
      },
      "outputs": [],
      "source": [
        "estimators = [('QDA', qda), ('RandomForest', rf)]\n",
        "final_estimator = GradientBoostingClassifier()\n",
        "clf = StackingClassifier(estimators=estimators, final_estimator=final_estimator)"
      ]
    },
    {
      "cell_type": "code",
      "execution_count": null,
      "metadata": {
        "id": "NEakEdGw27KM"
      },
      "outputs": [],
      "source": [
        "model_ensemble = Pipeline([\n",
        "    ('stdscaler', stdscaler),\n",
        "    ('pca', pca),\n",
        "    ('classifier', clf)\n",
        "])"
      ]
    },
    {
      "cell_type": "code",
      "execution_count": null,
      "metadata": {
        "id": "RISEjCUz27KN",
        "outputId": "a7960299-b72f-44cf-e305-e12fb792508e"
      },
      "outputs": [
        {
          "name": "stdout",
          "output_type": "stream",
          "text": [
            "test accuracy =  90.02 %\n"
          ]
        }
      ],
      "source": [
        "model_ensemble.fit(X_train, yStatus_train)\n",
        "pred = model_ensemble.predict(X_test)\n",
        "print('test accuracy = ', round(accuracy_score(yStatus_test, pred)*100, 2), '%')"
      ]
    },
    {
      "cell_type": "code",
      "execution_count": null,
      "metadata": {
        "id": "Rtxcxtsf27KO",
        "outputId": "5afecf25-a938-45c5-cbd4-88c83e86237a"
      },
      "outputs": [
        {
          "name": "stdout",
          "output_type": "stream",
          "text": [
            "              precision    recall  f1-score   support\n",
            "\n",
            "           0      0.902     0.998     0.948     11465\n",
            "           1      0.435     0.013     0.024       797\n",
            "           2      0.000     0.000     0.000       343\n",
            "           3      0.259     0.059     0.096       119\n",
            "\n",
            "    accuracy                          0.900     12724\n",
            "   macro avg      0.399     0.267     0.267     12724\n",
            "weighted avg      0.843     0.900     0.856     12724\n",
            "\n"
          ]
        }
      ],
      "source": [
        "print(classification_report(yStatus_test, pred, digits=3))"
      ]
    },
    {
      "cell_type": "markdown",
      "metadata": {
        "id": "kuQf_tZf27KO"
      },
      "source": [
        "**QDA**"
      ]
    },
    {
      "cell_type": "code",
      "execution_count": null,
      "metadata": {
        "id": "40ThnRdc27KP"
      },
      "outputs": [],
      "source": [
        "model_qda = Pipeline([\n",
        "    ('stdscaler', stdscaler),\n",
        "    ('pca', pca),\n",
        "    ('classifier', qda)\n",
        "])"
      ]
    },
    {
      "cell_type": "code",
      "execution_count": null,
      "metadata": {
        "id": "EHwd5TAf27KP",
        "outputId": "af832ada-ec39-4b03-d04b-3cef907d0f1c"
      },
      "outputs": [
        {
          "name": "stdout",
          "output_type": "stream",
          "text": [
            "test accuracy =  89.84 %\n"
          ]
        }
      ],
      "source": [
        "model_qda.fit(X_train, yClosed_train)\n",
        "pred = model_qda.predict(X_test)\n",
        "print('test accuracy = ', round(accuracy_score(yClosed_test, pred)*100, 2), '%')"
      ]
    },
    {
      "cell_type": "code",
      "execution_count": null,
      "metadata": {
        "id": "YIyJQic-27KQ",
        "outputId": "15479c42-48ad-4f45-b2a8-32d8831ee37c"
      },
      "outputs": [
        {
          "name": "stdout",
          "output_type": "stream",
          "text": [
            "              precision    recall  f1-score   support\n",
            "\n",
            "           0      0.310     0.110     0.162      1140\n",
            "           1      0.918     0.976     0.946     11584\n",
            "\n",
            "    accuracy                          0.898     12724\n",
            "   macro avg      0.614     0.543     0.554     12724\n",
            "weighted avg      0.863     0.898     0.876     12724\n",
            "\n"
          ]
        }
      ],
      "source": [
        "print(classification_report(yClosed_test, pred, digits=3))"
      ]
    },
    {
      "cell_type": "markdown",
      "metadata": {
        "id": "TuTM--Gr27KR"
      },
      "source": [
        "**Random Forest**"
      ]
    },
    {
      "cell_type": "code",
      "execution_count": null,
      "metadata": {
        "id": "IcK9LkKQ27KS"
      },
      "outputs": [],
      "source": [
        "model_rf = Pipeline([\n",
        "    ('stdscaler', stdscaler),\n",
        "    ('pca', pca),\n",
        "    ('classifier', rf)\n",
        "])"
      ]
    },
    {
      "cell_type": "code",
      "execution_count": null,
      "metadata": {
        "id": "dw8LaPWu27KT",
        "outputId": "cf4f36ec-cf13-4819-de04-d77c18d2cbe7"
      },
      "outputs": [
        {
          "name": "stdout",
          "output_type": "stream",
          "text": [
            "test accuracy =  88.68 %\n"
          ]
        }
      ],
      "source": [
        "model_rf.fit(X_train, yStatus_train)\n",
        "pred = model_rf.predict(X_test)\n",
        "print('test accuracy = ', round(accuracy_score(yStatus_test, pred)*100, 2), '%')"
      ]
    },
    {
      "cell_type": "code",
      "execution_count": null,
      "metadata": {
        "id": "V8HvW0Lg27KU",
        "outputId": "081bc55c-515a-43e2-aa0d-887961956c62"
      },
      "outputs": [
        {
          "name": "stdout",
          "output_type": "stream",
          "text": [
            "              precision    recall  f1-score   support\n",
            "\n",
            "           0      0.082     0.883     0.150      1140\n",
            "           1      0.648     0.015     0.030     11584\n",
            "           2      0.000     0.000     0.000         0\n",
            "           3      0.000     0.000     0.000         0\n",
            "\n",
            "    accuracy                          0.093     12724\n",
            "   macro avg      0.183     0.225     0.045     12724\n",
            "weighted avg      0.597     0.093     0.040     12724\n",
            "\n"
          ]
        }
      ],
      "source": [
        "print(classification_report(yClosed_test, pred, digits=3))"
      ]
    },
    {
      "cell_type": "markdown",
      "metadata": {
        "id": "Kd1NFPW427KW"
      },
      "source": [
        "---"
      ]
    },
    {
      "cell_type": "markdown",
      "metadata": {
        "id": "ckn56CdK27KX"
      },
      "source": [
        "## saving model"
      ]
    },
    {
      "cell_type": "code",
      "execution_count": null,
      "metadata": {
        "id": "ykJiVaUT27KX"
      },
      "outputs": [],
      "source": [
        "pickle.dump(model_ensemble, open('../models/ensemble.pkl', 'wb'))\n",
        "pickle.dump(model_qda, open('../models/qda.pkl', 'wb'))\n",
        "pickle.dump(model_rf, open('../models/rf.pkl', 'wb'))"
      ]
    },
    {
      "cell_type": "code",
      "execution_count": null,
      "metadata": {
        "id": "88JSt_zl27KY"
      },
      "outputs": [],
      "source": [
        "# to load the model :\n",
        "# pickled_model = pickle.load(open('model.pkl', 'rb'))\n",
        "# pickled_model.predict(X_test)"
      ]
    },
    {
      "cell_type": "markdown",
      "metadata": {
        "id": "J5xyDXs927KY"
      },
      "source": [
        "---"
      ]
    }
  ],
  "metadata": {
    "kernelspec": {
      "display_name": "Python 3.9.13 ('base')",
      "language": "python",
      "name": "python3"
    },
    "language_info": {
      "codemirror_mode": {
        "name": "ipython",
        "version": 3
      },
      "file_extension": ".py",
      "mimetype": "text/x-python",
      "name": "python",
      "nbconvert_exporter": "python",
      "pygments_lexer": "ipython3",
      "version": "3.9.13"
    },
    "orig_nbformat": 4,
    "vscode": {
      "interpreter": {
        "hash": "55f8b0c8eafc8c60051b10e3df5507ddbfe1017aee1ff3d5b682eb72f8ada892"
      }
    },
    "colab": {
      "provenance": [],
      "include_colab_link": true
    }
  },
  "nbformat": 4,
  "nbformat_minor": 0
}